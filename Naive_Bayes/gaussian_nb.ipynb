{
 "cells": [
  {
   "cell_type": "code",
   "execution_count": 1,
   "metadata": {},
   "outputs": [],
   "source": [
    "import pandas as pd\n",
    "import numpy as np\n",
    "from sklearn.preprocessing import StandardScaler as scaler\n",
    "from sklearn.model_selection import train_test_split as tts\n",
    "from sklearn.metrics import confusion_matrix, ConfusionMatrixDisplay, classification_report\n",
    "from sklearn.utils import shuffle"
   ]
  },
  {
   "cell_type": "markdown",
   "metadata": {},
   "source": [
    "---\n",
    "# **Gaussian Naive Bayes**"
   ]
  },
  {
   "cell_type": "code",
   "execution_count": 2,
   "metadata": {},
   "outputs": [],
   "source": [
    "class GaussianNB:\n",
    "    def __init__(self):\n",
    "        self.mean = None\n",
    "        self.var = None\n",
    "        self.prior = None\n",
    "        self.classes = None\n",
    "        self.n_classes = None\n",
    "    \n",
    "    def fit(self, X, y):\n",
    "        n_samples, n_features = X.shape\n",
    "        self.classes = np.unique(y)\n",
    "        self.n_classes = len(self.classes)\n",
    "\n",
    "        self.mean = np.zeros((self.n_classes, n_features), dtype = np.float64)\n",
    "        self.var = np.zeros((self.n_classes, n_features), dtype=np.float64)\n",
    "        self.prior = np.zeros(self.n_classes, dtype=np.float64)\n",
    "\n",
    "        for cls_idx, cls in enumerate(self.classes):\n",
    "            X_cls = X[y==cls]\n",
    "            self.mean[cls_idx,:] = np.mean(X_cls, axis = 0)\n",
    "            self.var[cls_idx,:] = np.var(X_cls, axis = 0)\n",
    "            self.prior[cls_idx] = len(X_cls)/n_samples\n",
    "\n",
    "        return\n",
    "    \n",
    "    def predict(self, X):\n",
    "        return [self._predict(x) for x in X]\n",
    "\n",
    "    \n",
    "    def _predict(self, x):\n",
    "        \n",
    "        pdf_numerator = np.exp(-((x-self.mean)**2)/(2*self.var))\n",
    "        pdf_denominator = np.sqrt(2*np.pi*self.var)\n",
    "        pdf = pdf_numerator/pdf_denominator\n",
    "\n",
    "        log_lik = np.sum(np.log(pdf), axis=1)\n",
    "        posterior = log_lik + np.log(self.prior)\n",
    "\n",
    "        return self.classes[np.argmax(posterior)]"
   ]
  },
  {
   "cell_type": "markdown",
   "metadata": {},
   "source": [
    "---\n",
    "# **Code Usage**"
   ]
  },
  {
   "cell_type": "code",
   "execution_count": 3,
   "metadata": {},
   "outputs": [],
   "source": [
    "def dataloader():\n",
    "\n",
    "    df = pd.read_csv('../data/cancer_detection.csv')\n",
    "    df.drop(columns=df.columns[[0, -1]], inplace=True)   #  Dropping non-informative columns\n",
    "    df['diagnosis'] = df['diagnosis'].map({'M':1, 'B':0})   # Malignant -> 1, Benign -> -1\n",
    "\n",
    "    return df\n",
    "\n",
    "def preprocessor(df):\n",
    "    y = df['diagnosis'].to_numpy()\n",
    "    X = df.drop(['diagnosis'], axis=1).to_numpy()\n",
    "\n",
    "    X = scaler().fit_transform(X)\n",
    "    X, y = shuffle(X,y, random_state=42)\n",
    "\n",
    "    return X, y"
   ]
  },
  {
   "cell_type": "code",
   "execution_count": 4,
   "metadata": {},
   "outputs": [
    {
     "name": "stdout",
     "output_type": "stream",
     "text": [
      "Feature Shape: (569, 30)\n",
      "Target Shape: (569,)\n",
      "Number of examples in training set: 426\n",
      "Number of examples in test set: 143\n"
     ]
    }
   ],
   "source": [
    "# Loading dataset\n",
    "X, y = preprocessor(dataloader())\n",
    "\n",
    "print(\"Feature Shape:\", X.shape)\n",
    "print(\"Target Shape:\", y.shape)\n",
    "\n",
    "train_X, test_X, train_y , test_y = tts(X, y, random_state=42)\n",
    "\n",
    "print(\"Number of examples in training set:\", train_X.shape[0])\n",
    "print(\"Number of examples in test set:\", test_X.shape[0])\n"
   ]
  },
  {
   "cell_type": "code",
   "execution_count": 5,
   "metadata": {},
   "outputs": [
    {
     "name": "stdout",
     "output_type": "stream",
     "text": [
      "              precision    recall  f1-score   support\n",
      "\n",
      "           0       0.96      0.97      0.96       268\n",
      "           1       0.95      0.93      0.94       158\n",
      "\n",
      "    accuracy                           0.96       426\n",
      "   macro avg       0.95      0.95      0.95       426\n",
      "weighted avg       0.96      0.96      0.96       426\n",
      "\n"
     ]
    },
    {
     "name": "stderr",
     "output_type": "stream",
     "text": [
      "<ipython-input-2-a6dc49ccf772>:36: RuntimeWarning: divide by zero encountered in log\n",
      "  log_lik = np.sum(np.log(pdf), axis=1)\n"
     ]
    }
   ],
   "source": [
    "cls = GaussianNB()\n",
    "cls.fit(train_X, train_y)\n",
    "\n",
    "# Perfomance on training set\n",
    "\n",
    "train_pred = cls.predict(train_X)\n",
    "\n",
    "print(classification_report(train_y, train_pred))"
   ]
  },
  {
   "cell_type": "code",
   "execution_count": 6,
   "metadata": {},
   "outputs": [
    {
     "name": "stdout",
     "output_type": "stream",
     "text": [
      "              precision    recall  f1-score   support\n",
      "\n",
      "           0       0.88      0.98      0.93        89\n",
      "           1       0.95      0.78      0.86        54\n",
      "\n",
      "    accuracy                           0.90       143\n",
      "   macro avg       0.92      0.88      0.89       143\n",
      "weighted avg       0.91      0.90      0.90       143\n",
      "\n"
     ]
    }
   ],
   "source": [
    "# Performance on test set\n",
    "test_pred = cls.predict(test_X)\n",
    "\n",
    "print(classification_report(test_y, test_pred))"
   ]
  },
  {
   "cell_type": "code",
   "execution_count": 7,
   "metadata": {},
   "outputs": [
    {
     "data": {
      "image/png": "[encoded data removed]",
      "text/plain": [
       "<Figure size 432x288 with 2 Axes>"
      ]
     },
     "metadata": {
      "needs_background": "light"
     },
     "output_type": "display_data"
    }
   ],
   "source": [
    "ConfusionMatrixDisplay(confusion_matrix=confusion_matrix(test_y, test_pred), display_labels=[0,1]).plot();"
   ]
  },
  {
   "cell_type": "code",
   "execution_count": null,
   "metadata": {},
   "outputs": [],
   "source": []
  }
 ],
 "metadata": {
  "kernelspec": {
   "display_name": "Python 3",
   "language": "python",
   "name": "python3"
  },
  "language_info": {
   "codemirror_mode": {
    "name": "ipython",
    "version": 3
   },
   "file_extension": ".py",
   "mimetype": "text/x-python",
   "name": "python",
   "nbconvert_exporter": "python",
   "pygments_lexer": "ipython3",
   "version": "3.8.10"
  }
 },
 "nbformat": 4,
 "nbformat_minor": 2
}
