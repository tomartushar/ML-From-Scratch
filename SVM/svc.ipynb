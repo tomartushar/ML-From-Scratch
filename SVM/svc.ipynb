{
 "cells": [
  {
   "cell_type": "code",
   "execution_count": 1,
   "metadata": {},
   "outputs": [],
   "source": [
    "import numpy as np\n",
    "import pandas as pd\n",
    "import matplotlib.pyplot as plt\n",
    "from sklearn.metrics import classification_report, ConfusionMatrixDisplay, confusion_matrix\n",
    "from sklearn.utils import shuffle\n",
    "from sklearn.preprocessing import StandardScaler as scaler\n",
    "from sklearn.model_selection import train_test_split as tts"
   ]
  },
  {
   "cell_type": "markdown",
   "metadata": {},
   "source": [
    "---\n",
    "# **Support Vector Classifier**"
   ]
  },
  {
   "cell_type": "code",
   "execution_count": 2,
   "metadata": {},
   "outputs": [],
   "source": [
    "class SVC:\n",
    "    def __init__(self, lr, lambda_param, max_iters=300):\n",
    "        self.lr = lr\n",
    "        self.lambda_param = lambda_param\n",
    "        self.max_iters = max_iters\n",
    "        self.w = None\n",
    "        self.b = None\n",
    "\n",
    "\n",
    "    def cost(self, X, y):\n",
    "\n",
    "        losses = 1-y*(np.dot(X, self.w) + self.b)\n",
    "        hinge_loss = np.sum(losses[losses>0])\n",
    "        cost_ = 1/2*np.dot(self.w, self.w) + self.lambda_param*hinge_loss\n",
    "\n",
    "        return cost_\n",
    "\n",
    "    \n",
    "    def fit(self, X, y, need_cost = False):\n",
    "        n_samples, n_features = X.shape\n",
    "\n",
    "        y = np.where(y<=0, -1, 1)\n",
    "\n",
    "        self.w = np.zeros(n_features)\n",
    "        self.b = 0\n",
    "\n",
    "        cost = []\n",
    "        for _ in range(self.max_iters):\n",
    "\n",
    "            classification = (y*(np.dot(X, self.w)+self.b)) >= 1\n",
    "\n",
    "            if need_cost:\n",
    "                cost.append(self.cost(X, y))\n",
    "            \n",
    "            dw = n_samples*self.w - self.lambda_param*np.dot(X.T, y*(1-classification))\n",
    "            db = - np.sum(self.lambda_param*y*(1-classification))\n",
    "\n",
    "            self.w -= self.lr*dw\n",
    "            self.b -= self.lr*db\n",
    "\n",
    "        if need_cost:\n",
    "            return cost\n",
    "        \n",
    "        \n",
    "    def predict(self, X):\n",
    "        return np.sign(np.dot(X, self.w) + self.b)\n",
    "        \n"
   ]
  },
  {
   "cell_type": "markdown",
   "metadata": {},
   "source": [
    "---\n",
    "# **Code Usage**"
   ]
  },
  {
   "cell_type": "code",
   "execution_count": 3,
   "metadata": {},
   "outputs": [],
   "source": [
    "def dataloader():\n",
    "\n",
    "    df = pd.read_csv('../data/cancer_detection.csv')\n",
    "    df.drop(columns=df.columns[[0, -1]], inplace=True)   #  Dropping non-informative columns\n",
    "    df['diagnosis'] = df['diagnosis'].map({'M':1, 'B':-1})   # Malignant -> 1, Benign -> -1\n",
    "\n",
    "    return df\n",
    "\n",
    "def preprocessor(df):\n",
    "    y = df['diagnosis'].to_numpy()\n",
    "    X = df.drop(['diagnosis'], axis=1).to_numpy()\n",
    "\n",
    "    X = scaler().fit_transform(X)\n",
    "    X, y = shuffle(X,y, random_state=42)\n",
    "\n",
    "    return X, y"
   ]
  },
  {
   "cell_type": "code",
   "execution_count": 4,
   "metadata": {},
   "outputs": [
    {
     "name": "stdout",
     "output_type": "stream",
     "text": [
      "Feature Shape: (569, 30)\n",
      "Target Shape: (569,)\n",
      "Number of examples in training set: 426\n",
      "Number of examples in test set: 143\n"
     ]
    }
   ],
   "source": [
    "# Loading dataset\n",
    "X, y = preprocessor(dataloader())\n",
    "\n",
    "print(\"Feature Shape:\", X.shape)\n",
    "print(\"Target Shape:\", y.shape)\n",
    "\n",
    "train_X, test_X, train_y , test_y = tts(X, y, random_state=42)\n",
    "\n",
    "print(\"Number of examples in training set:\", train_X.shape[0])\n",
    "print(\"Number of examples in test set:\", test_X.shape[0])\n"
   ]
  },
  {
   "cell_type": "code",
   "execution_count": 5,
   "metadata": {},
   "outputs": [
    {
     "data": {
      "image/png": "[encoded data removed]",
      "text/plain": [
       "<Figure size 432x288 with 1 Axes>"
      ]
     },
     "metadata": {
      "needs_background": "light"
     },
     "output_type": "display_data"
    }
   ],
   "source": [
    "# Finding the hyperparamter value\n",
    "max_iters = 1000\n",
    "svc = SVC(lr=0.00001, lambda_param=6, max_iters=max_iters)\n",
    "\n",
    "costs = svc.fit(train_X, train_y, need_cost=True)\n",
    "\n",
    "plt.plot(np.linspace(0, max_iters, max_iters), costs)\n",
    "plt.xlabel('Iterations')\n",
    "plt.ylabel('Cost')\n",
    "plt.title('LOSS Curve')\n",
    "plt.show()"
   ]
  },
  {
   "cell_type": "code",
   "execution_count": 6,
   "metadata": {},
   "outputs": [
    {
     "name": "stdout",
     "output_type": "stream",
     "text": [
      "              precision    recall  f1-score   support\n",
      "\n",
      "          -1       0.97      0.99      0.98       268\n",
      "           1       0.98      0.96      0.97       158\n",
      "\n",
      "    accuracy                           0.98       426\n",
      "   macro avg       0.98      0.97      0.97       426\n",
      "weighted avg       0.98      0.98      0.98       426\n",
      "\n"
     ]
    }
   ],
   "source": [
    "# Fit curve for the best parameter \n",
    "svc = SVC(lr=0.00001, lambda_param=6, max_iters=50)\n",
    "svc.fit(train_X, train_y)\n",
    "\n",
    "\n",
    "# Perfomance on training set\n",
    "\n",
    "train_pred = svc.predict(train_X)\n",
    "\n",
    "print(classification_report(train_y, train_pred))"
   ]
  },
  {
   "cell_type": "code",
   "execution_count": 7,
   "metadata": {},
   "outputs": [
    {
     "name": "stdout",
     "output_type": "stream",
     "text": [
      "              precision    recall  f1-score   support\n",
      "\n",
      "          -1       0.95      1.00      0.97        89\n",
      "           1       1.00      0.91      0.95        54\n",
      "\n",
      "    accuracy                           0.97       143\n",
      "   macro avg       0.97      0.95      0.96       143\n",
      "weighted avg       0.97      0.97      0.96       143\n",
      "\n"
     ]
    }
   ],
   "source": [
    "# Performance on test set\n",
    "test_pred = svc.predict(test_X)\n",
    "\n",
    "print(classification_report(test_y, test_pred))"
   ]
  },
  {
   "cell_type": "code",
   "execution_count": 8,
   "metadata": {},
   "outputs": [
    {
     "data": {
      "image/png": "[encoded data removed]",
      "text/plain": [
       "<Figure size 432x288 with 2 Axes>"
      ]
     },
     "metadata": {
      "needs_background": "light"
     },
     "output_type": "display_data"
    }
   ],
   "source": [
    "ConfusionMatrixDisplay(confusion_matrix=confusion_matrix(test_y, test_pred), display_labels=[-1,1]).plot();"
   ]
  }
 ],
 "metadata": {
  "kernelspec": {
   "display_name": "Python 3",
   "language": "python",
   "name": "python3"
  },
  "language_info": {
   "codemirror_mode": {
    "name": "ipython",
    "version": 3
   },
   "file_extension": ".py",
   "mimetype": "text/x-python",
   "name": "python",
   "nbconvert_exporter": "python",
   "pygments_lexer": "ipython3",
   "version": "3.8.10"
  }
 },
 "nbformat": 4,
 "nbformat_minor": 2
}
