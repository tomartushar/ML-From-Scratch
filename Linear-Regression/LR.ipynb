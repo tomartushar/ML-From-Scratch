{
 "cells": [
  {
   "cell_type": "code",
   "execution_count": 1,
   "metadata": {},
   "outputs": [],
   "source": [
    "import numpy as np\n",
    "import pandas as pd\n",
    "from sklearn.utils import shuffle\n",
    "from sklearn.metrics import mean_absolute_error as mae\n",
    "from sklearn.metrics import mean_squared_error as mse\n",
    "from sklearn.preprocessing import StandardScaler as scaler\n",
    "from sklearn.model_selection import train_test_split as tts"
   ]
  },
  {
   "cell_type": "markdown",
   "metadata": {},
   "source": [
    "---\n",
    "# **Linear regression model**"
   ]
  },
  {
   "cell_type": "code",
   "execution_count": 2,
   "metadata": {},
   "outputs": [],
   "source": [
    "class LinearRegression():\n",
    "    def __init__(self, lr = 0.01, n_iterations = 100):\n",
    "        self.lr = lr\n",
    "        self.n_iterations = n_iterations\n",
    "        self.weights = None\n",
    "        self.bias = None\n",
    "\n",
    "    def fit(self, X, y):\n",
    "        n_samples, n_features = X.shape\n",
    "        self.weights = np.zeros(n_features)\n",
    "        self.bias = 0\n",
    "\n",
    "        for _ in range(self.n_iterations):\n",
    "            \n",
    "            predictions = np.dot(X, self.weights) + self.bias\n",
    "\n",
    "            dw = 1/n_samples*np.dot(X.T, predictions-y)\n",
    "            db = 1/n_samples*np.sum(predictions-y)\n",
    "\n",
    "            self.weights -= self.lr*dw\n",
    "            self.bias -= self.lr*db\n",
    "\n",
    "    def predict(self, X):\n",
    "        return np.dot(X, self.weights) + self.bias"
   ]
  },
  {
   "cell_type": "markdown",
   "metadata": {},
   "source": [
    "---\n",
    "## **Usage Code**"
   ]
  },
  {
   "cell_type": "code",
   "execution_count": 3,
   "metadata": {},
   "outputs": [],
   "source": [
    "def dataloader():\n",
    "\n",
    "    df = pd.read_csv('../data/winequality-red.csv')\n",
    "    \n",
    "    return df\n",
    "\n",
    "def preprocessor(df):\n",
    "    y = df['quality'].to_numpy()\n",
    "    X = df.drop(['quality'], axis=1).to_numpy()\n",
    "\n",
    "    X = scaler().fit_transform(X)\n",
    "    X, y = shuffle(X,y, random_state=42)\n",
    "\n",
    "    return X, y"
   ]
  },
  {
   "cell_type": "code",
   "execution_count": 4,
   "metadata": {},
   "outputs": [
    {
     "name": "stdout",
     "output_type": "stream",
     "text": [
      "Feature Shape: (1599, 11)\n",
      "Target Shape: (1599,)\n",
      "Number of examples in training set: 1199\n",
      "Number of examples in test set: 400\n",
      "\n",
      "Training Error:\n",
      "MSE: 0.41797268794431747\n",
      "RMSE: 0.6465080726056849\n",
      "MAE: 0.4966631106333683\n",
      "\n",
      "Testing Error:\n",
      "MSE: 0.41830771675530815\n",
      "RMSE: 0.6467671271449317\n",
      "MAE: 0.5071089775338561\n"
     ]
    }
   ],
   "source": [
    "if __name__=='__main__':\n",
    "    X, y = preprocessor(dataloader())\n",
    "\n",
    "    print(\"Feature Shape:\", X.shape)\n",
    "    print(\"Target Shape:\", y.shape)\n",
    "\n",
    "    train_X, test_X, train_y , test_y = tts(X, y, random_state=42)\n",
    "\n",
    "    print(\"Number of examples in training set:\", train_X.shape[0])\n",
    "    print(\"Number of examples in test set:\", test_X.shape[0])\n",
    "    print()\n",
    "\n",
    "    lr = LinearRegression(lr = 0.1, n_iterations=100)\n",
    "    lr.fit(train_X, train_y)\n",
    "\n",
    "    train_pred = lr.predict(train_X)\n",
    "    test_pred = lr.predict(test_X)\n",
    "    print(\"Training Error:\")\n",
    "    print('MSE:', mse(train_y, train_pred))\n",
    "    print('RMSE:', np.sqrt(mse(train_y, train_pred)))\n",
    "    print('MAE:', mae(train_y, train_pred))\n",
    "    print()\n",
    "    print(\"Testing Error:\")\n",
    "    print('MSE:', mse(test_y, test_pred))\n",
    "    print('RMSE:', np.sqrt(mse(test_y, test_pred)))\n",
    "    print('MAE:', mae(test_y, test_pred))"
   ]
  }
 ],
 "metadata": {
  "kernelspec": {
   "display_name": "Python 3",
   "language": "python",
   "name": "python3"
  },
  "language_info": {
   "codemirror_mode": {
    "name": "ipython",
    "version": 3
   },
   "file_extension": ".py",
   "mimetype": "text/x-python",
   "name": "python",
   "nbconvert_exporter": "python",
   "pygments_lexer": "ipython3",
   "version": "3.8.10"
  }
 },
 "nbformat": 4,
 "nbformat_minor": 2
}
