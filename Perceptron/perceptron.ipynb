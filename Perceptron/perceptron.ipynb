{
 "cells": [
  {
   "cell_type": "code",
   "execution_count": 1,
   "metadata": {},
   "outputs": [],
   "source": [
    "import numpy as np\n",
    "import pandas as pd\n",
    "from sklearn.utils import shuffle\n",
    "from sklearn.preprocessing import StandardScaler as scaler\n",
    "from sklearn.model_selection import train_test_split as tts\n",
    "from sklearn.metrics import classification_report, confusion_matrix, ConfusionMatrixDisplay"
   ]
  },
  {
   "cell_type": "markdown",
   "metadata": {},
   "source": [
    "---\n",
    "# **Perceptron**"
   ]
  },
  {
   "cell_type": "code",
   "execution_count": 2,
   "metadata": {},
   "outputs": [],
   "source": [
    "class perceptron:\n",
    "    def __init__(self, alpha = 0.0001, max_iters=300):\n",
    "        self.iters = max_iters\n",
    "        self.alpha = alpha\n",
    "        self.weights = None\n",
    "        self.bias = None\n",
    "\n",
    "    def fit(self, X, y):\n",
    "        _, n_features = X.shape\n",
    "        self.weights = np.zeros(n_features)\n",
    "        self.bias = 0\n",
    "\n",
    "        for _ in range(self.iters):\n",
    "\n",
    "            # w_new = w + alpha*(y-h(x))*x\n",
    "            # bias = bias + alpha*(y-h(x))\n",
    "\n",
    "            o_x = np.dot(X, self.weights) + self.bias\n",
    "            h_x = o_x >= 0\n",
    "            self.weights += self.alpha*np.dot(X.T, (y-h_x))\n",
    "            self.bias += np.sum(self.alpha*(y-h_x))\n",
    "        \n",
    "        return\n",
    "    \n",
    "    def predict(self, X):\n",
    "        return (np.dot(X, self.weights)+self.bias) >= 0\n"
   ]
  },
  {
   "cell_type": "markdown",
   "metadata": {},
   "source": [
    "---\n",
    "# **Code Usage**"
   ]
  },
  {
   "cell_type": "markdown",
   "metadata": {},
   "source": [
    "## **Example-1**"
   ]
  },
  {
   "cell_type": "code",
   "execution_count": 3,
   "metadata": {},
   "outputs": [
    {
     "name": "stdout",
     "output_type": "stream",
     "text": [
      "[0 0] -> False\n",
      "[0 1] -> True\n",
      "[1 0] -> True\n",
      "[1 1] -> True\n"
     ]
    }
   ],
   "source": [
    "if __name__ == '__main__':\n",
    "    X = np.array([[0,0], [0,1], [1,0], [1,1]])\n",
    "    y = np.array([0, 1, 1, 1])\n",
    "\n",
    "    cls = perceptron(alpha=0.001, max_iters=10)\n",
    "\n",
    "    cls.fit(X, y)\n",
    "\n",
    "    predictions = cls.predict(X)\n",
    "    for inp, out in zip(X, predictions):\n",
    "        print(inp, '->', out)"
   ]
  },
  {
   "cell_type": "markdown",
   "metadata": {},
   "source": [
    "* Fits well on separable data."
   ]
  },
  {
   "cell_type": "markdown",
   "metadata": {},
   "source": [
    "## **Example-2**"
   ]
  },
  {
   "cell_type": "code",
   "execution_count": 4,
   "metadata": {},
   "outputs": [
    {
     "name": "stdout",
     "output_type": "stream",
     "text": [
      "[0 0] -> True\n",
      "[0 1] -> True\n",
      "[1 0] -> True\n",
      "[1 1] -> True\n"
     ]
    }
   ],
   "source": [
    "if __name__ == '__main__':\n",
    "    X = np.array([[0,0], [0,1], [1,0], [1,1]])\n",
    "    y = np.array([0, 1, 1, 0])\n",
    "\n",
    "    cls = perceptron(alpha=0.001, max_iters=100)\n",
    "\n",
    "    cls.fit(X, y)\n",
    "\n",
    "    predictions = cls.predict(X)\n",
    "    for inp, out in zip(X, predictions):\n",
    "        print(inp, '->', out)"
   ]
  },
  {
   "cell_type": "markdown",
   "metadata": {},
   "source": [
    "* Unable to fit on non-separable data."
   ]
  },
  {
   "cell_type": "markdown",
   "metadata": {},
   "source": [
    "## **Example-3**"
   ]
  },
  {
   "cell_type": "code",
   "execution_count": 5,
   "metadata": {},
   "outputs": [],
   "source": [
    "def dataloader():\n",
    "    df = pd.read_csv('../data/diabetes.csv')\n",
    "    return df\n",
    "\n",
    "def preprocessor(df):\n",
    "    y = df['Outcome'].to_numpy()\n",
    "    X = df.drop(['Outcome'], axis=1).to_numpy()\n",
    "\n",
    "    X = scaler().fit_transform(X)\n",
    "    X, y = shuffle(X,y, random_state=42)\n",
    "\n",
    "    return X, y"
   ]
  },
  {
   "cell_type": "code",
   "execution_count": 6,
   "metadata": {},
   "outputs": [
    {
     "name": "stdout",
     "output_type": "stream",
     "text": [
      "Feature Shape: (768, 8)\n",
      "Target Shape: (768,)\n",
      "Number of examples in training set: 576\n",
      "Number of examples in test set: 192\n"
     ]
    }
   ],
   "source": [
    "# Loading dataset\n",
    "X, y = preprocessor(dataloader())\n",
    "\n",
    "print(\"Feature Shape:\", X.shape)\n",
    "print(\"Target Shape:\", y.shape)\n",
    "\n",
    "train_X, test_X, train_y , test_y = tts(X, y, random_state=42)\n",
    "\n",
    "print(\"Number of examples in training set:\", train_X.shape[0])\n",
    "print(\"Number of examples in test set:\", test_X.shape[0])\n"
   ]
  },
  {
   "cell_type": "code",
   "execution_count": 7,
   "metadata": {},
   "outputs": [
    {
     "name": "stdout",
     "output_type": "stream",
     "text": [
      "              precision    recall  f1-score   support\n",
      "\n",
      "           0       0.75      0.76      0.76       381\n",
      "           1       0.53      0.51      0.52       195\n",
      "\n",
      "    accuracy                           0.68       576\n",
      "   macro avg       0.64      0.64      0.64       576\n",
      "weighted avg       0.68      0.68      0.68       576\n",
      "\n"
     ]
    }
   ],
   "source": [
    "# Fit curve for the best parameter \n",
    "cls = perceptron(alpha=0.001, max_iters=150)\n",
    "cls.fit(train_X, train_y)\n",
    "\n",
    "\n",
    "# Perfomance on training set\n",
    "train_pred = cls.predict(train_X)\n",
    "print(classification_report(train_y, train_pred))"
   ]
  },
  {
   "cell_type": "code",
   "execution_count": 8,
   "metadata": {},
   "outputs": [
    {
     "name": "stdout",
     "output_type": "stream",
     "text": [
      "              precision    recall  f1-score   support\n",
      "\n",
      "           0       0.75      0.74      0.74       119\n",
      "           1       0.58      0.59      0.59        73\n",
      "\n",
      "    accuracy                           0.68       192\n",
      "   macro avg       0.66      0.66      0.66       192\n",
      "weighted avg       0.68      0.68      0.68       192\n",
      "\n"
     ]
    }
   ],
   "source": [
    "# Performance on test set\n",
    "test_pred = cls.predict(test_X)\n",
    "\n",
    "print(classification_report(test_y, test_pred))"
   ]
  },
  {
   "cell_type": "code",
   "execution_count": 9,
   "metadata": {},
   "outputs": [
    {
     "data": {
      "image/png": "[encoded data removed]",
      "text/plain": [
       "<Figure size 432x288 with 2 Axes>"
      ]
     },
     "metadata": {
      "needs_background": "light"
     },
     "output_type": "display_data"
    }
   ],
   "source": [
    "ConfusionMatrixDisplay(confusion_matrix=confusion_matrix(test_y, test_pred), display_labels=[0,1]).plot();"
   ]
  }
 ],
 "metadata": {
  "kernelspec": {
   "display_name": "Python 3",
   "language": "python",
   "name": "python3"
  },
  "language_info": {
   "codemirror_mode": {
    "name": "ipython",
    "version": 3
   },
   "file_extension": ".py",
   "mimetype": "text/x-python",
   "name": "python",
   "nbconvert_exporter": "python",
   "pygments_lexer": "ipython3",
   "version": "3.8.10"
  }
 },
 "nbformat": 4,
 "nbformat_minor": 2
}
