{
 "cells": [
  {
   "cell_type": "code",
   "execution_count": 1,
   "metadata": {},
   "outputs": [],
   "source": [
    "import numpy as np\n",
    "import pandas as pd\n",
    "import matplotlib.pyplot as plt\n"
   ]
  },
  {
   "cell_type": "markdown",
   "metadata": {},
   "source": [
    "---\n",
    "# **Linear Discrimant Analysis**"
   ]
  },
  {
   "cell_type": "code",
   "execution_count": 3,
   "metadata": {},
   "outputs": [],
   "source": [
    "class LDA:\n",
    "    def __init__(self):\n",
    "        self.classes = None\n",
    "        self.n_classes = None\n",
    "        self.components = None\n",
    "\n",
    "    def fit(self, X, y):\n",
    "        _, n_features = X.shape\n",
    "\n",
    "        self.classes = np.unique(y)\n",
    "        self.n_classes = len(self.classes)\n",
    "\n",
    "        S_w = np.zeros((n_features, n_features), dtype=np.float64)\n",
    "        S_b = np.zeros((n_features, n_features), dtype=np.float64)\n",
    "\n",
    "        \n",
    "        mean = np.mean(X, axis = 0)\n",
    "        \n",
    "        for cls in self.classes:\n",
    "            X_cls = X[y==cls]\n",
    "            cls_mean = np.mean(X_cls, axis = 0)\n",
    "            X_cls -= cls_mean\n",
    "            \n",
    "            S_w += np.dot(X_cls.T, X_cls)\n",
    "\n",
    "            n_cls = X_cls.shape[0]\n",
    "            mean_diff = (cls_mean-mean).reshape(n_features, 1)\n",
    "            S_b += n_cls*np.dot(mean_diff, mean_diff.T)\n",
    "        \n",
    "        res_mat = np.linalg.inv(S_w)@S_b\n",
    "        eigenvalues, eigenvectors = np.linalg.eig(res_mat)\n",
    "        sort_indices =  np.argsort(abs(eigenvalues))[::-1]\n",
    "        eigenvectors = eigenvectors[:,sort_indices]\n",
    "        self.components = eigenvectors[:,:self.n_classes-1]\n",
    "    \n",
    "        return\n",
    "    \n",
    "    def transform(self, X):\n",
    "        return np.dot(X,self.components)"
   ]
  },
  {
   "cell_type": "markdown",
   "metadata": {},
   "source": [
    "---\n",
    "# **Code Usage**"
   ]
  },
  {
   "cell_type": "code",
   "execution_count": 10,
   "metadata": {},
   "outputs": [],
   "source": [
    "def dataloader():\n",
    "\n",
    "    df = pd.read_csv('../data/cancer_detection.csv')\n",
    "    df.drop(columns=df.columns[[0, -1]], inplace=True)   #  Dropping non-informative columns\n",
    "    df['diagnosis'] = df['diagnosis'].map({'M':1, 'B':0})   # Malignant -> 1, Benign -> -1\n",
    "\n",
    "    return df\n",
    "\n",
    "def preprocessor(df):\n",
    "    y = df['diagnosis'].to_numpy()\n",
    "    X = df.drop(['diagnosis'], axis=1).to_numpy()\n",
    "\n",
    "    return X, y"
   ]
  },
  {
   "cell_type": "code",
   "execution_count": 11,
   "metadata": {},
   "outputs": [],
   "source": [
    "X, y = preprocessor(dataloader())\n",
    "lda = LDA()\n",
    "lda.fit(X, y)\n",
    "\n",
    "transformed_X = lda.transform(X)"
   ]
  },
  {
   "cell_type": "code",
   "execution_count": 18,
   "metadata": {},
   "outputs": [
    {
     "name": "stdout",
     "output_type": "stream",
     "text": [
      "Original features shape: (569, 30)\n",
      "Projected features Shape: (569, 1)\n"
     ]
    }
   ],
   "source": [
    "print(\"Original features shape:\", X.shape)\n",
    "print(\"Projected features Shape:\",transformed_X.shape)"
   ]
  },
  {
   "cell_type": "code",
   "execution_count": 17,
   "metadata": {},
   "outputs": [
    {
     "data": {
      "image/png": "[encoded data removed]",
      "text/plain": [
       "<Figure size 432x288 with 1 Axes>"
      ]
     },
     "metadata": {
      "needs_background": "light"
     },
     "output_type": "display_data"
    }
   ],
   "source": [
    "plt.scatter(transformed_X[y==0], [0]*len(transformed_X[y==0]), s = 50, c = 'blue', label = 'Class-0')\n",
    "plt.scatter(transformed_X[y==1], [1]*len(transformed_X[y==1]), s = 50, c = 'green', label = 'Class-1')\n",
    "plt.title('Projected Data')\n",
    "plt.legend()\n",
    "plt.show();"
   ]
  }
 ],
 "metadata": {
  "kernelspec": {
   "display_name": "Python 3",
   "language": "python",
   "name": "python3"
  },
  "language_info": {
   "codemirror_mode": {
    "name": "ipython",
    "version": 3
   },
   "file_extension": ".py",
   "mimetype": "text/x-python",
   "name": "python",
   "nbconvert_exporter": "python",
   "pygments_lexer": "ipython3",
   "version": "3.8.10"
  }
 },
 "nbformat": 4,
 "nbformat_minor": 2
}
