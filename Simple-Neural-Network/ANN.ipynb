{
 "cells": [
  {
   "cell_type": "code",
   "execution_count": 3,
   "metadata": {},
   "outputs": [],
   "source": [
    "import numpy as np"
   ]
  },
  {
   "cell_type": "markdown",
   "metadata": {},
   "source": [
    "---\n",
    "# **Simple Neural Network**"
   ]
  },
  {
   "cell_type": "code",
   "execution_count": 16,
   "metadata": {},
   "outputs": [],
   "source": [
    "class NN:\n",
    "    def __init__(self, layers, lr):\n",
    "        self.layers = layers\n",
    "        self.lr = lr\n",
    "        \n",
    "        self.weights = [np.random.randn(layers[i], layers[i+1]) \\\n",
    "                        for i in range(len(layers)-1)]\n",
    "        self.bias = [np.random.randn(1, layers[i+1]) \\\n",
    "                     for i in range(len(layers)-1)]\n",
    "    \n",
    "    def sigmoid(self, x):\n",
    "        return 1/(1+np.exp(-x))\n",
    "    \n",
    "    def sigmoid_derivative(self, x):\n",
    "        return x*(1-x)\n",
    "    \n",
    "    def forward(self, X):\n",
    "\n",
    "        activations = [X]\n",
    "        for i in range(len(self.layers)-1):\n",
    "            activations.append(self.sigmoid(np.dot(activations[-1],self.weights[i]) + self.bias[i]))\n",
    "\n",
    "        return activations\n",
    "    \n",
    "    def backward(self, X, y, activations):\n",
    "        deltas = [None]*(len(self.layers)-1)\n",
    "\n",
    "        deltas[-1] = (activations[-1]-y)*self.sigmoid_derivative(activations[-1])\n",
    "\n",
    "        for i in reversed(range(len(deltas)-1)):\n",
    "            deltas[i] = np.dot(deltas[i+1], self.weights[i+1].T)*self.sigmoid_derivative(activations[i+1])\n",
    "\n",
    "        for i in range(len(self.weights)):\n",
    "            self.weights[i] -= self.lr*np.dot(activations[i].T, deltas[i])\n",
    "            self.bias[i] -= self.lr*np.sum(deltas[i], axis = 0, keepdims=True)\n",
    "\n",
    "    \n",
    "    def train(self, X, y, epochs):\n",
    "\n",
    "        for _ in range(epochs):\n",
    "\n",
    "            activations = self.forward(X)\n",
    "            self.backward(X,y,activations)\n",
    "    \n",
    "    def predict(self, X):\n",
    "\n",
    "        return self.forward(X)[-1]\n",
    "    \n",
    "    "
   ]
  },
  {
   "cell_type": "markdown",
   "metadata": {},
   "source": [
    "---\n",
    "## **Code Usage**"
   ]
  },
  {
   "cell_type": "code",
   "execution_count": 15,
   "metadata": {},
   "outputs": [
    {
     "name": "stdout",
     "output_type": "stream",
     "text": [
      "Predictions:\n",
      "[0 0] -> [0.09994129]\n",
      "[0 1] -> [0.88740358]\n",
      "[1 0] -> [0.88740664]\n",
      "[1 1] -> [0.14283181]\n"
     ]
    }
   ],
   "source": [
    "if __name__=='__main__':\n",
    "\n",
    "    X = np.array([[0,0], [0,1], [1,0], [1,1]])\n",
    "    y = np.array([[0],[1],[1],[0]])\n",
    "\n",
    "    nn = NN(layers=[2,2,1], lr = 0.5)\n",
    "    nn.train(X,y,epochs=1000)\n",
    "\n",
    "    predictions = nn.predict(X)\n",
    "\n",
    "    print(\"Predictions:\")\n",
    "    for i in range(len(X)):\n",
    "        print(X[i],\"->\",predictions[i])"
   ]
  },
  {
   "cell_type": "code",
   "execution_count": null,
   "metadata": {},
   "outputs": [],
   "source": []
  }
 ],
 "metadata": {
  "kernelspec": {
   "display_name": "Python 3",
   "language": "python",
   "name": "python3"
  },
  "language_info": {
   "codemirror_mode": {
    "name": "ipython",
    "version": 3
   },
   "file_extension": ".py",
   "mimetype": "text/x-python",
   "name": "python",
   "nbconvert_exporter": "python",
   "pygments_lexer": "ipython3",
   "version": "3.8.10"
  }
 },
 "nbformat": 4,
 "nbformat_minor": 2
}
