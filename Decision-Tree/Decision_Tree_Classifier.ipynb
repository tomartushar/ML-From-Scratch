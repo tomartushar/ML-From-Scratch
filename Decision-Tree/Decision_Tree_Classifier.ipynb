{
 "cells": [
  {
   "cell_type": "code",
   "execution_count": 1,
   "metadata": {},
   "outputs": [],
   "source": [
    "import pandas  as pd\n",
    "import numpy as np\n",
    "from sklearn.utils import shuffle\n",
    "from sklearn import datasets\n",
    "from sklearn.model_selection import train_test_split as tts\n",
    "from sklearn.metrics import confusion_matrix, ConfusionMatrixDisplay, classification_report "
   ]
  },
  {
   "cell_type": "markdown",
   "metadata": {},
   "source": [
    "---\n",
    "# **Decision Tree Classififer**"
   ]
  },
  {
   "cell_type": "code",
   "execution_count": 2,
   "metadata": {},
   "outputs": [],
   "source": [
    "class DecisionTreeClassifier:\n",
    "    def __init__(self, max_depth=10):\n",
    "        self.max_depth = max_depth\n",
    "        self.n_classes = None\n",
    "        self.n_features = None\n",
    "        self.tree = None\n",
    "\n",
    "    def fit(self, X, y):\n",
    "        self.n_classes = len(set(y))\n",
    "        self.n_features = X.shape[1]\n",
    "        self.tree = self._grow_tree(X, y)\n",
    "\n",
    "\n",
    "    def _gini(self, y):\n",
    "        cls_counts = np.bincount(y)\n",
    "        m = len(y)\n",
    "        return 1 - np.sum(np.array([(count/m)**2 for count in cls_counts]))\n",
    "\n",
    "    def _best_split(self, X, y):\n",
    "        n_samples = X.shape[0]\n",
    "        best_gini = np.inf\n",
    "        best_feature, best_thr = None, None\n",
    "\n",
    "        for idx in range(self.n_features):\n",
    "            thresholds, classes = zip(*sorted(zip(X[:,idx], y)))\n",
    "            \n",
    "            for i in range(1, n_samples):\n",
    "                if classes[i] != classes[i-1]:\n",
    "                    threshold = (thresholds[i-1]+thresholds[i])/2\n",
    "                    gini_left = self._gini(classes[:i])\n",
    "                    gini_right = self._gini(classes[i:])\n",
    "                    gini = i/n_samples*gini_left + (n_samples-i)/n_samples*gini_right\n",
    "                    if gini < best_gini:\n",
    "                        best_gini = gini\n",
    "                        best_feature = idx\n",
    "                        best_thr = threshold\n",
    "        \n",
    "        return best_feature, best_thr\n",
    "\n",
    "\n",
    "    def _grow_tree(self, X, y, depth = 0):\n",
    "        node = {}    \n",
    "        if depth<self.max_depth:\n",
    "            best_feature, best_thr = self._best_split(X, y)\n",
    "            if best_feature is not None:\n",
    "                indices_left = X[:,best_feature] < best_thr\n",
    "                X_left, y_left = X[indices_left], y[indices_left]\n",
    "                X_right, y_right = X[~indices_left], y[~indices_left]\n",
    "                node['left'] = self._grow_tree(X_left, y_left, depth+1)\n",
    "                node['right'] = self._grow_tree(X_right, y_right, depth+1)\n",
    "                node['splitting_feature'] = best_feature\n",
    "                node['splitting_threshold'] = best_thr\n",
    "                return node\n",
    "        \n",
    "        predicted_class = np.argmax(np.bincount(y))\n",
    "        node['predicted_class'] = predicted_class\n",
    "        \n",
    "        return node\n",
    "    \n",
    "    def predict(self, X):\n",
    "        return [self._predict(x) for x in X]\n",
    "    \n",
    "    def _predict(self, x):\n",
    "        node = self.tree\n",
    "\n",
    "        while 'left' in node:\n",
    "            if x[node['splitting_feature']]<node['splitting_threshold']:\n",
    "                node = node['left']\n",
    "            else:\n",
    "                node = node['right']\n",
    "        \n",
    "        return node['predicted_class']"
   ]
  },
  {
   "cell_type": "markdown",
   "metadata": {},
   "source": [
    "---\n",
    "# **Code Usage**"
   ]
  },
  {
   "cell_type": "code",
   "execution_count": 5,
   "metadata": {},
   "outputs": [],
   "source": [
    "def dataloader():\n",
    "\n",
    "    data = datasets.load_iris(return_X_y=True, as_frame=True)    \n",
    "    df = data[0]\n",
    "    df['target'] = data[1]\n",
    "    df.head()\n",
    "\n",
    "    return df\n",
    "\n",
    "def preprocessor(df):\n",
    "    y = df['target'].to_numpy()\n",
    "    X = df.drop(['target'], axis=1).to_numpy()\n",
    "    X, y = shuffle(X,y, random_state=42)\n",
    "    \n",
    "    return X, y"
   ]
  },
  {
   "cell_type": "code",
   "execution_count": 6,
   "metadata": {},
   "outputs": [
    {
     "name": "stdout",
     "output_type": "stream",
     "text": [
      "Feature Shape: (150, 4)\n",
      "Target Shape: (150,)\n",
      "Number of examples in training set: 112\n",
      "Number of examples in test set: 38\n"
     ]
    }
   ],
   "source": [
    "# Loading dataset\n",
    "X, y = preprocessor(dataloader())\n",
    "\n",
    "print(\"Feature Shape:\", X.shape)\n",
    "print(\"Target Shape:\", y.shape)\n",
    "\n",
    "train_X, test_X, train_y , test_y = tts(X, y, random_state=42)\n",
    "\n",
    "print(\"Number of examples in training set:\", train_X.shape[0])\n",
    "print(\"Number of examples in test set:\", test_X.shape[0])\n"
   ]
  },
  {
   "cell_type": "code",
   "execution_count": 7,
   "metadata": {},
   "outputs": [
    {
     "name": "stdout",
     "output_type": "stream",
     "text": [
      "              precision    recall  f1-score   support\n",
      "\n",
      "           0       1.00      1.00      1.00        36\n",
      "           1       0.92      0.97      0.95        37\n",
      "           2       0.97      0.92      0.95        39\n",
      "\n",
      "    accuracy                           0.96       112\n",
      "   macro avg       0.97      0.97      0.96       112\n",
      "weighted avg       0.97      0.96      0.96       112\n",
      "\n"
     ]
    }
   ],
   "source": [
    "cls = DecisionTreeClassifier(max_depth=2)\n",
    "cls.fit(train_X, train_y)\n",
    "\n",
    "# Perfomance on training set\n",
    "\n",
    "train_pred = cls.predict(train_X)\n",
    "\n",
    "print(classification_report(train_y, train_pred))"
   ]
  },
  {
   "cell_type": "code",
   "execution_count": 8,
   "metadata": {},
   "outputs": [
    {
     "name": "stdout",
     "output_type": "stream",
     "text": [
      "              precision    recall  f1-score   support\n",
      "\n",
      "           0       1.00      1.00      1.00        14\n",
      "           1       0.87      1.00      0.93        13\n",
      "           2       1.00      0.82      0.90        11\n",
      "\n",
      "    accuracy                           0.95        38\n",
      "   macro avg       0.96      0.94      0.94        38\n",
      "weighted avg       0.95      0.95      0.95        38\n",
      "\n"
     ]
    }
   ],
   "source": [
    "# Performance on test set\n",
    "test_pred = cls.predict(test_X)\n",
    "\n",
    "print(classification_report(test_y, test_pred))"
   ]
  },
  {
   "cell_type": "code",
   "execution_count": 10,
   "metadata": {},
   "outputs": [
    {
     "data": {
      "image/png": "[encoded data removed]",
      "text/plain": [
       "<Figure size 432x288 with 2 Axes>"
      ]
     },
     "metadata": {
      "needs_background": "light"
     },
     "output_type": "display_data"
    }
   ],
   "source": [
    "ConfusionMatrixDisplay(confusion_matrix=confusion_matrix(test_y, test_pred), display_labels=[0,1,2]).plot();"
   ]
  },
  {
   "cell_type": "code",
   "execution_count": null,
   "metadata": {},
   "outputs": [],
   "source": []
  }
 ],
 "metadata": {
  "kernelspec": {
   "display_name": "Python 3",
   "language": "python",
   "name": "python3"
  },
  "language_info": {
   "codemirror_mode": {
    "name": "ipython",
    "version": 3
   },
   "file_extension": ".py",
   "mimetype": "text/x-python",
   "name": "python",
   "nbconvert_exporter": "python",
   "pygments_lexer": "ipython3",
   "version": "3.8.10"
  }
 },
 "nbformat": 4,
 "nbformat_minor": 2
}
